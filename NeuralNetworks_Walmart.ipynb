{
 "cells": [
  {
   "cell_type": "code",
   "execution_count": 1,
   "metadata": {},
   "outputs": [],
   "source": [
    "import pandas as pd\n",
    "import numpy as np\n",
    "import matplotlib\n",
    "import matplotlib.pyplot as plt\n",
    "import seaborn as sns\n",
    "import warnings\n",
    "warnings.filterwarnings('ignore')\n",
    "import pickle\n",
    "import sklearn\n",
    "import statsmodels.api as sm \n",
    "from sklearn.model_selection import train_test_split\n",
    "from sklearn.metrics import confusion_matrix, recall_score, precision_score, f1_score, accuracy_score, classification_report\n",
    "from sklearn.model_selection import cross_val_score\n",
    "from statsmodels.stats.outliers_influence import variance_inflation_factor\n",
    "from sklearn.preprocessing import StandardScaler, MinMaxScaler, LabelEncoder\n",
    "from scipy import stats\n",
    "from sklearn.metrics import mean_squared_error, mean_absolute_error\n"
   ]
  },
  {
   "cell_type": "code",
   "execution_count": 2,
   "metadata": {},
   "outputs": [],
   "source": [
    "import tensorflow as tf\n",
    "from tensorflow.keras.models import Sequential\n",
    "from tensorflow.keras.layers import Dense"
   ]
  },
  {
   "cell_type": "code",
   "execution_count": 3,
   "metadata": {},
   "outputs": [],
   "source": [
    "import keras \n",
    "from keras.api.models import Sequential\n",
    "from keras.api.layers import Dense\n",
    "from keras.api.callbacks import EarlyStopping"
   ]
  },
  {
   "cell_type": "code",
   "execution_count": 4,
   "metadata": {},
   "outputs": [],
   "source": [
    "plt.rcParams['figure.figsize'] = (8, 6)\n",
    "plt.rcParams['figure.dpi'] = 100\n",
    "plt.rcParams['font.size'] = 14"
   ]
  },
  {
   "cell_type": "code",
   "execution_count": 5,
   "metadata": {},
   "outputs": [
    {
     "data": {
      "text/html": [
       "<div>\n",
       "<style scoped>\n",
       "    .dataframe tbody tr th:only-of-type {\n",
       "        vertical-align: middle;\n",
       "    }\n",
       "\n",
       "    .dataframe tbody tr th {\n",
       "        vertical-align: top;\n",
       "    }\n",
       "\n",
       "    .dataframe thead th {\n",
       "        text-align: right;\n",
       "    }\n",
       "</style>\n",
       "<table border=\"1\" class=\"dataframe\">\n",
       "  <thead>\n",
       "    <tr style=\"text-align: right;\">\n",
       "      <th></th>\n",
       "      <th>Store</th>\n",
       "      <th>Date</th>\n",
       "      <th>Weekly_Sales</th>\n",
       "      <th>Holiday_Flag</th>\n",
       "      <th>Temperature</th>\n",
       "      <th>Fuel_Price</th>\n",
       "      <th>CPI</th>\n",
       "      <th>Unemployment</th>\n",
       "    </tr>\n",
       "  </thead>\n",
       "  <tbody>\n",
       "    <tr>\n",
       "      <th>0</th>\n",
       "      <td>1</td>\n",
       "      <td>05-02-2010</td>\n",
       "      <td>1643690.90</td>\n",
       "      <td>0</td>\n",
       "      <td>42.31</td>\n",
       "      <td>2.572</td>\n",
       "      <td>211.096358</td>\n",
       "      <td>8.106</td>\n",
       "    </tr>\n",
       "    <tr>\n",
       "      <th>1</th>\n",
       "      <td>1</td>\n",
       "      <td>12-02-2010</td>\n",
       "      <td>1641957.44</td>\n",
       "      <td>1</td>\n",
       "      <td>38.51</td>\n",
       "      <td>2.548</td>\n",
       "      <td>211.242170</td>\n",
       "      <td>8.106</td>\n",
       "    </tr>\n",
       "    <tr>\n",
       "      <th>2</th>\n",
       "      <td>1</td>\n",
       "      <td>19-02-2010</td>\n",
       "      <td>1611968.17</td>\n",
       "      <td>0</td>\n",
       "      <td>39.93</td>\n",
       "      <td>2.514</td>\n",
       "      <td>211.289143</td>\n",
       "      <td>8.106</td>\n",
       "    </tr>\n",
       "    <tr>\n",
       "      <th>3</th>\n",
       "      <td>1</td>\n",
       "      <td>26-02-2010</td>\n",
       "      <td>1409727.59</td>\n",
       "      <td>0</td>\n",
       "      <td>46.63</td>\n",
       "      <td>2.561</td>\n",
       "      <td>211.319643</td>\n",
       "      <td>8.106</td>\n",
       "    </tr>\n",
       "    <tr>\n",
       "      <th>4</th>\n",
       "      <td>1</td>\n",
       "      <td>05-03-2010</td>\n",
       "      <td>1554806.68</td>\n",
       "      <td>0</td>\n",
       "      <td>46.50</td>\n",
       "      <td>2.625</td>\n",
       "      <td>211.350143</td>\n",
       "      <td>8.106</td>\n",
       "    </tr>\n",
       "  </tbody>\n",
       "</table>\n",
       "</div>"
      ],
      "text/plain": [
       "   Store        Date  Weekly_Sales  Holiday_Flag  Temperature  Fuel_Price  \\\n",
       "0      1  05-02-2010    1643690.90             0        42.31       2.572   \n",
       "1      1  12-02-2010    1641957.44             1        38.51       2.548   \n",
       "2      1  19-02-2010    1611968.17             0        39.93       2.514   \n",
       "3      1  26-02-2010    1409727.59             0        46.63       2.561   \n",
       "4      1  05-03-2010    1554806.68             0        46.50       2.625   \n",
       "\n",
       "          CPI  Unemployment  \n",
       "0  211.096358         8.106  \n",
       "1  211.242170         8.106  \n",
       "2  211.289143         8.106  \n",
       "3  211.319643         8.106  \n",
       "4  211.350143         8.106  "
      ]
     },
     "execution_count": 5,
     "metadata": {},
     "output_type": "execute_result"
    }
   ],
   "source": [
    "file_csv = \"D:/du lieu o cu/Statistics and Machine Learning Course/TH5/Walmart.csv\"\n",
    "df = pd.read_csv(file_csv)\n",
    "df.head(5)"
   ]
  },
  {
   "cell_type": "code",
   "execution_count": 6,
   "metadata": {},
   "outputs": [
    {
     "name": "stdout",
     "output_type": "stream",
     "text": [
      "<class 'pandas.core.frame.DataFrame'>\n",
      "RangeIndex: 6435 entries, 0 to 6434\n",
      "Data columns (total 8 columns):\n",
      " #   Column        Non-Null Count  Dtype  \n",
      "---  ------        --------------  -----  \n",
      " 0   Store         6435 non-null   int64  \n",
      " 1   Date          6435 non-null   object \n",
      " 2   Weekly_Sales  6435 non-null   float64\n",
      " 3   Holiday_Flag  6435 non-null   int64  \n",
      " 4   Temperature   6435 non-null   float64\n",
      " 5   Fuel_Price    6435 non-null   float64\n",
      " 6   CPI           6435 non-null   float64\n",
      " 7   Unemployment  6435 non-null   float64\n",
      "dtypes: float64(5), int64(2), object(1)\n",
      "memory usage: 402.3+ KB\n"
     ]
    }
   ],
   "source": [
    "df.info()"
   ]
  },
  {
   "cell_type": "code",
   "execution_count": 7,
   "metadata": {},
   "outputs": [],
   "source": [
    "df = df.drop(columns = ['Store', 'Date'])"
   ]
  },
  {
   "cell_type": "markdown",
   "metadata": {},
   "source": [
    "Log Transformation"
   ]
  },
  {
   "cell_type": "code",
   "execution_count": 8,
   "metadata": {},
   "outputs": [
    {
     "name": "stdout",
     "output_type": "stream",
     "text": [
      "Weekly_Sales    float64\n",
      "Holiday_Flag      int64\n",
      "Temperature     float64\n",
      "Fuel_Price      float64\n",
      "CPI             float64\n",
      "Unemployment    float64\n",
      "dtype: object\n"
     ]
    }
   ],
   "source": [
    "print(df.dtypes)\n"
   ]
  },
  {
   "cell_type": "code",
   "execution_count": 9,
   "metadata": {},
   "outputs": [
    {
     "data": {
      "text/html": [
       "<div>\n",
       "<style scoped>\n",
       "    .dataframe tbody tr th:only-of-type {\n",
       "        vertical-align: middle;\n",
       "    }\n",
       "\n",
       "    .dataframe tbody tr th {\n",
       "        vertical-align: top;\n",
       "    }\n",
       "\n",
       "    .dataframe thead th {\n",
       "        text-align: right;\n",
       "    }\n",
       "</style>\n",
       "<table border=\"1\" class=\"dataframe\">\n",
       "  <thead>\n",
       "    <tr style=\"text-align: right;\">\n",
       "      <th></th>\n",
       "      <th>Weekly_Sales</th>\n",
       "      <th>Holiday_Flag</th>\n",
       "      <th>Temperature</th>\n",
       "      <th>Fuel_Price</th>\n",
       "      <th>CPI</th>\n",
       "      <th>Unemployment</th>\n",
       "    </tr>\n",
       "  </thead>\n",
       "  <tbody>\n",
       "    <tr>\n",
       "      <th>count</th>\n",
       "      <td>6435.000000</td>\n",
       "      <td>6435.000000</td>\n",
       "      <td>6434.000000</td>\n",
       "      <td>6435.000000</td>\n",
       "      <td>6435.000000</td>\n",
       "      <td>6435.000000</td>\n",
       "    </tr>\n",
       "    <tr>\n",
       "      <th>mean</th>\n",
       "      <td>13.701910</td>\n",
       "      <td>0.048472</td>\n",
       "      <td>4.066455</td>\n",
       "      <td>1.466513</td>\n",
       "      <td>5.124311</td>\n",
       "      <td>2.176955</td>\n",
       "    </tr>\n",
       "    <tr>\n",
       "      <th>std</th>\n",
       "      <td>0.588301</td>\n",
       "      <td>0.176786</td>\n",
       "      <td>0.356409</td>\n",
       "      <td>0.106687</td>\n",
       "      <td>0.231237</td>\n",
       "      <td>0.198970</td>\n",
       "    </tr>\n",
       "    <tr>\n",
       "      <th>min</th>\n",
       "      <td>12.254802</td>\n",
       "      <td>0.000000</td>\n",
       "      <td>1.877937</td>\n",
       "      <td>1.244731</td>\n",
       "      <td>4.844691</td>\n",
       "      <td>1.584940</td>\n",
       "    </tr>\n",
       "    <tr>\n",
       "      <th>25%</th>\n",
       "      <td>13.223748</td>\n",
       "      <td>0.000000</td>\n",
       "      <td>3.881461</td>\n",
       "      <td>1.369402</td>\n",
       "      <td>4.888355</td>\n",
       "      <td>2.065723</td>\n",
       "    </tr>\n",
       "    <tr>\n",
       "      <th>50%</th>\n",
       "      <td>13.775466</td>\n",
       "      <td>0.000000</td>\n",
       "      <td>4.153792</td>\n",
       "      <td>1.491780</td>\n",
       "      <td>5.212849</td>\n",
       "      <td>2.183126</td>\n",
       "    </tr>\n",
       "    <tr>\n",
       "      <th>75%</th>\n",
       "      <td>14.166280</td>\n",
       "      <td>0.000000</td>\n",
       "      <td>4.330009</td>\n",
       "      <td>1.554982</td>\n",
       "      <td>5.364776</td>\n",
       "      <td>2.264052</td>\n",
       "    </tr>\n",
       "    <tr>\n",
       "      <th>max</th>\n",
       "      <td>15.155417</td>\n",
       "      <td>0.693147</td>\n",
       "      <td>4.616506</td>\n",
       "      <td>1.698913</td>\n",
       "      <td>5.430366</td>\n",
       "      <td>2.728702</td>\n",
       "    </tr>\n",
       "  </tbody>\n",
       "</table>\n",
       "</div>"
      ],
      "text/plain": [
       "       Weekly_Sales  Holiday_Flag  Temperature   Fuel_Price          CPI  \\\n",
       "count   6435.000000   6435.000000  6434.000000  6435.000000  6435.000000   \n",
       "mean      13.701910      0.048472     4.066455     1.466513     5.124311   \n",
       "std        0.588301      0.176786     0.356409     0.106687     0.231237   \n",
       "min       12.254802      0.000000     1.877937     1.244731     4.844691   \n",
       "25%       13.223748      0.000000     3.881461     1.369402     4.888355   \n",
       "50%       13.775466      0.000000     4.153792     1.491780     5.212849   \n",
       "75%       14.166280      0.000000     4.330009     1.554982     5.364776   \n",
       "max       15.155417      0.693147     4.616506     1.698913     5.430366   \n",
       "\n",
       "       Unemployment  \n",
       "count   6435.000000  \n",
       "mean       2.176955  \n",
       "std        0.198970  \n",
       "min        1.584940  \n",
       "25%        2.065723  \n",
       "50%        2.183126  \n",
       "75%        2.264052  \n",
       "max        2.728702  "
      ]
     },
     "execution_count": 9,
     "metadata": {},
     "output_type": "execute_result"
    }
   ],
   "source": [
    "df = df.apply(lambda x: np.log(x + 1))\n",
    "df.describe()"
   ]
  },
  {
   "cell_type": "code",
   "execution_count": 10,
   "metadata": {},
   "outputs": [
    {
     "data": {
      "image/png": "[encoded data removed]",
      "text/plain": [
       "<Figure size 800x600 with 6 Axes>"
      ]
     },
     "metadata": {},
     "output_type": "display_data"
    }
   ],
   "source": [
    "# Visualize the boxplot of each variable.\n",
    "plt.figure(figsize=(8, 6))\n",
    "for i, j in enumerate(df.describe().columns):\n",
    "    plt.subplot(3,3, i+1)\n",
    "    sns.boxplot(x=df[j])\n",
    "    plt.title('{} Boxplot'.format(j))\n",
    "    plt.tight_layout()\n",
    "\n",
    "plt.show()"
   ]
  },
  {
   "cell_type": "markdown",
   "metadata": {},
   "source": [
    "Xử lý outliers bằng Winsorization "
   ]
  },
  {
   "cell_type": "code",
   "execution_count": 11,
   "metadata": {},
   "outputs": [],
   "source": [
    "# Hàm Winsorization cho các cột được chọn\n",
    "def winsorize_columns(df, columns, lower_percentile=0.05, upper_percentile=0.95):\n",
    "    for col in columns:\n",
    "        df[col] = stats.mstats.winsorize(df[col], limits=[lower_percentile, 1-upper_percentile])\n",
    "    return df\n",
    "\n",
    "# Các cột cần Winsorization\n",
    "columns_to_winsorize = ['Temperature', 'Unemployment']\n",
    "\n",
    "# Áp dụng Winsorization cho các cột được chọn\n",
    "df = winsorize_columns(df, columns_to_winsorize)"
   ]
  },
  {
   "cell_type": "code",
   "execution_count": 12,
   "metadata": {},
   "outputs": [
    {
     "data": {
      "image/png": "[encoded data removed]",
      "text/plain": [
       "<Figure size 800x600 with 6 Axes>"
      ]
     },
     "metadata": {},
     "output_type": "display_data"
    }
   ],
   "source": [
    "# Visualize the boxplot of each variable.\n",
    "plt.figure(figsize=(8, 6))\n",
    "for i, j in enumerate(df.describe().columns):\n",
    "    plt.subplot(3,3, i+1)\n",
    "    sns.boxplot(x=df[j])\n",
    "    plt.title('{} Boxplot'.format(j))\n",
    "    plt.tight_layout()\n",
    "\n",
    "plt.show()"
   ]
  },
  {
   "cell_type": "code",
   "execution_count": 13,
   "metadata": {},
   "outputs": [
    {
     "data": {
      "text/html": [
       "<div>\n",
       "<style scoped>\n",
       "    .dataframe tbody tr th:only-of-type {\n",
       "        vertical-align: middle;\n",
       "    }\n",
       "\n",
       "    .dataframe tbody tr th {\n",
       "        vertical-align: top;\n",
       "    }\n",
       "\n",
       "    .dataframe thead th {\n",
       "        text-align: right;\n",
       "    }\n",
       "</style>\n",
       "<table border=\"1\" class=\"dataframe\">\n",
       "  <thead>\n",
       "    <tr style=\"text-align: right;\">\n",
       "      <th></th>\n",
       "      <th>Weekly_Sales</th>\n",
       "      <th>Holiday_Flag</th>\n",
       "      <th>Temperature</th>\n",
       "      <th>Fuel_Price</th>\n",
       "      <th>CPI</th>\n",
       "      <th>Unemployment</th>\n",
       "    </tr>\n",
       "  </thead>\n",
       "  <tbody>\n",
       "    <tr>\n",
       "      <th>0</th>\n",
       "      <td>14.312455</td>\n",
       "      <td>0.000000</td>\n",
       "      <td>3.768384</td>\n",
       "      <td>1.273126</td>\n",
       "      <td>5.357041</td>\n",
       "      <td>2.208934</td>\n",
       "    </tr>\n",
       "    <tr>\n",
       "      <th>1</th>\n",
       "      <td>14.311400</td>\n",
       "      <td>0.693147</td>\n",
       "      <td>3.676554</td>\n",
       "      <td>1.266384</td>\n",
       "      <td>5.357728</td>\n",
       "      <td>2.208934</td>\n",
       "    </tr>\n",
       "    <tr>\n",
       "      <th>2</th>\n",
       "      <td>14.292967</td>\n",
       "      <td>0.000000</td>\n",
       "      <td>3.711863</td>\n",
       "      <td>1.256755</td>\n",
       "      <td>5.357949</td>\n",
       "      <td>2.208934</td>\n",
       "    </tr>\n",
       "    <tr>\n",
       "      <th>3</th>\n",
       "      <td>14.158908</td>\n",
       "      <td>0.000000</td>\n",
       "      <td>3.863463</td>\n",
       "      <td>1.270041</td>\n",
       "      <td>5.358093</td>\n",
       "      <td>2.208934</td>\n",
       "    </tr>\n",
       "    <tr>\n",
       "      <th>4</th>\n",
       "      <td>14.256862</td>\n",
       "      <td>0.000000</td>\n",
       "      <td>3.860730</td>\n",
       "      <td>1.287854</td>\n",
       "      <td>5.358237</td>\n",
       "      <td>2.208934</td>\n",
       "    </tr>\n",
       "    <tr>\n",
       "      <th>...</th>\n",
       "      <td>...</td>\n",
       "      <td>...</td>\n",
       "      <td>...</td>\n",
       "      <td>...</td>\n",
       "      <td>...</td>\n",
       "      <td>...</td>\n",
       "    </tr>\n",
       "    <tr>\n",
       "      <th>6430</th>\n",
       "      <td>13.477482</td>\n",
       "      <td>0.000000</td>\n",
       "      <td>4.187835</td>\n",
       "      <td>1.608838</td>\n",
       "      <td>5.262760</td>\n",
       "      <td>2.270475</td>\n",
       "    </tr>\n",
       "    <tr>\n",
       "      <th>6431</th>\n",
       "      <td>13.505523</td>\n",
       "      <td>0.000000</td>\n",
       "      <td>4.187987</td>\n",
       "      <td>1.606433</td>\n",
       "      <td>5.263573</td>\n",
       "      <td>2.268718</td>\n",
       "    </tr>\n",
       "    <tr>\n",
       "      <th>6432</th>\n",
       "      <td>13.506898</td>\n",
       "      <td>0.000000</td>\n",
       "      <td>4.015842</td>\n",
       "      <td>1.609438</td>\n",
       "      <td>5.264384</td>\n",
       "      <td>2.268718</td>\n",
       "    </tr>\n",
       "    <tr>\n",
       "      <th>6433</th>\n",
       "      <td>13.484401</td>\n",
       "      <td>0.000000</td>\n",
       "      <td>4.051263</td>\n",
       "      <td>1.603219</td>\n",
       "      <td>5.264403</td>\n",
       "      <td>2.268718</td>\n",
       "    </tr>\n",
       "    <tr>\n",
       "      <th>6434</th>\n",
       "      <td>13.541445</td>\n",
       "      <td>0.000000</td>\n",
       "      <td>4.091841</td>\n",
       "      <td>1.585555</td>\n",
       "      <td>5.264289</td>\n",
       "      <td>2.268718</td>\n",
       "    </tr>\n",
       "  </tbody>\n",
       "</table>\n",
       "<p>6096 rows × 6 columns</p>\n",
       "</div>"
      ],
      "text/plain": [
       "      Weekly_Sales  Holiday_Flag  Temperature  Fuel_Price       CPI  \\\n",
       "0        14.312455      0.000000     3.768384    1.273126  5.357041   \n",
       "1        14.311400      0.693147     3.676554    1.266384  5.357728   \n",
       "2        14.292967      0.000000     3.711863    1.256755  5.357949   \n",
       "3        14.158908      0.000000     3.863463    1.270041  5.358093   \n",
       "4        14.256862      0.000000     3.860730    1.287854  5.358237   \n",
       "...            ...           ...          ...         ...       ...   \n",
       "6430     13.477482      0.000000     4.187835    1.608838  5.262760   \n",
       "6431     13.505523      0.000000     4.187987    1.606433  5.263573   \n",
       "6432     13.506898      0.000000     4.015842    1.609438  5.264384   \n",
       "6433     13.484401      0.000000     4.051263    1.603219  5.264403   \n",
       "6434     13.541445      0.000000     4.091841    1.585555  5.264289   \n",
       "\n",
       "      Unemployment  \n",
       "0         2.208934  \n",
       "1         2.208934  \n",
       "2         2.208934  \n",
       "3         2.208934  \n",
       "4         2.208934  \n",
       "...            ...  \n",
       "6430      2.270475  \n",
       "6431      2.268718  \n",
       "6432      2.268718  \n",
       "6433      2.268718  \n",
       "6434      2.268718  \n",
       "\n",
       "[6096 rows x 6 columns]"
      ]
     },
     "execution_count": 13,
     "metadata": {},
     "output_type": "execute_result"
    }
   ],
   "source": [
    "# Xác định ngưỡng để loại bỏ giá trị bất thường bằng IQR (Interquartile Range)\n",
    "Q1 = df['Unemployment'].quantile(0.25)\n",
    "Q3 = df['Unemployment'].quantile(0.75)\n",
    "IQR = Q3 - Q1\n",
    "\n",
    "# Định nghĩa giá trị giới hạn\n",
    "lower_bound = Q1 - 1.5 * IQR\n",
    "upper_bound = Q3 + 1.5 * IQR\n",
    "\n",
    "# Loại bỏ các giá trị bất thường\n",
    "df = df[(df['Unemployment'] >= lower_bound) & (df['Unemployment'] <= upper_bound)]\n",
    "\n",
    "# Hiển thị kết quả sau khi loại bỏ\n",
    "df\n"
   ]
  },
  {
   "cell_type": "markdown",
   "metadata": {},
   "source": [
    "Normalization"
   ]
  },
  {
   "cell_type": "code",
   "execution_count": 14,
   "metadata": {},
   "outputs": [],
   "source": [
    "# Shuffle toàn bộ DataFrame\n",
    "df = df.sample(frac=1, random_state=42).reset_index(drop=True)"
   ]
  },
  {
   "cell_type": "code",
   "execution_count": 15,
   "metadata": {},
   "outputs": [],
   "source": [
    "X = df[['Holiday_Flag', 'Temperature', 'Fuel_Price', 'CPI', 'Unemployment']]\n",
    "y = df['Weekly_Sales']\n",
    "\n",
    "# Train test split\n",
    "X_train, X_test, y_train, y_test = train_test_split(X, y, test_size=0.2, random_state=42)\n",
    "\n",
    "\n",
    "scaler = StandardScaler()\n",
    "X_train_scaled = scaler.fit_transform(X_train)\n",
    "X_test_scaled = scaler.transform(X_test)\n",
    "\n",
    "# Convert training data into numpy\n",
    "inputs_scaled = np.array(X_train_scaled)\n",
    "outputs = np.array(y_train).reshape(-1, 1)\n",
    "\n",
    "#vConvert testing data into numpy \n",
    "inputs_scaled_test = np.array(X_test_scaled)\n",
    "outputs_test = np.array(y_test).reshape(-1, 1)"
   ]
  },
  {
   "cell_type": "markdown",
   "metadata": {},
   "source": [
    "Selt-building ANN"
   ]
  },
  {
   "cell_type": "code",
   "execution_count": 16,
   "metadata": {},
   "outputs": [],
   "source": [
    "# Hyperparameters for training\n",
    "epochs = 100  \n",
    "learning_rate = 0.00001  \n",
    "# batch_size = 3"
   ]
  },
  {
   "cell_type": "code",
   "execution_count": 17,
   "metadata": {},
   "outputs": [],
   "source": [
    "class SimpleNeuralNetwork:\n",
    "    def __init__(self, input_size, hidden_size, output_size):\n",
    "        # Initialize weights and biases\n",
    "        self.weights_hidden_input = np.random.rand(input_size, hidden_size)\n",
    "        self.weights_hidden_out = np.random.rand(hidden_size, output_size)\n",
    "        self.bias_hidden = np.zeros((1, hidden_size))\n",
    "        self.bias_output = np.zeros((1, output_size))\n",
    "\n",
    "    @staticmethod\n",
    "    def relu(x):\n",
    "        return np.maximum(0, x) \n",
    "\n",
    "    @staticmethod\n",
    "    def relu_derivative(x):\n",
    "        return np.where(x > 0, 1, 0)  \n",
    "    \n",
    "    def forward(self, X):\n",
    "        # Forward pass using ReLU activation\n",
    "        self.hidden_layer_values = np.dot(X, self.weights_hidden_input) + self.bias_hidden\n",
    "        self.hidden_layer_output = self.relu(self.hidden_layer_values)\n",
    "        self.output_layer_values = np.dot(self.hidden_layer_output, self.weights_hidden_out) + self.bias_output\n",
    "        return self.output_layer_values  \n",
    "    \n",
    "    def backward(self, X, y, predicted):\n",
    "        # Backward pass (MSE loss derivative)\n",
    "        dS_out = predicted - y\n",
    "        dW_out = np.dot(self.hidden_layer_output.T, dS_out)\n",
    "        db_out = np.sum(dS_out, axis=0, keepdims=True)\n",
    "        dS_hidden = np.dot(dS_out, self.weights_hidden_out.T) * self.relu_derivative(self.hidden_layer_output)\n",
    "        dW_hidden = np.dot(X.T, dS_hidden)\n",
    "        db_hidden = np.sum(dS_hidden, axis=0, keepdims=True)\n",
    "        return dW_hidden, dW_out, db_hidden, db_out\n",
    "    \n",
    "    def update(self, dW_hidden, dW_out, db_hidden, db_out):\n",
    "        # Update weights and biases using gradients\n",
    "        self.weights_hidden_input -= learning_rate * dW_hidden\n",
    "        self.weights_hidden_out -= learning_rate * dW_out\n",
    "        self.bias_hidden -= learning_rate * db_hidden\n",
    "        self.bias_output -= learning_rate * db_out\n",
    "\n",
    "    def predict(self, X):\n",
    "        # Prediction function\n",
    "        return self.forward(X)\n"
   ]
  },
  {
   "cell_type": "code",
   "execution_count": 18,
   "metadata": {},
   "outputs": [],
   "source": [
    "model = SimpleNeuralNetwork(inputs_scaled.shape[1], 10, outputs.shape[1]) "
   ]
  },
  {
   "cell_type": "code",
   "execution_count": 19,
   "metadata": {},
   "outputs": [
    {
     "name": "stdout",
     "output_type": "stream",
     "text": [
      "Epoch 0, Cost: 123.17987443972397\n",
      "Epoch 10, Cost: 8.126710323295285\n",
      "Epoch 20, Cost: 2.1749081687091874\n",
      "Epoch 30, Cost: 1.3940672272871355\n",
      "Epoch 40, Cost: 1.063332379669936\n",
      "Epoch 50, Cost: 0.884080590912239\n",
      "Epoch 60, Cost: 0.7695705978643441\n",
      "Epoch 70, Cost: 0.690262742613265\n",
      "Epoch 80, Cost: 0.6311015151543212\n",
      "Epoch 90, Cost: 0.5849882498071304\n"
     ]
    }
   ],
   "source": [
    "# Training loop\n",
    "cost_history = []\n",
    "for epoch in range(epochs):\n",
    "    # Forward pass\n",
    "    predicted = model.forward(inputs_scaled)\n",
    "\n",
    "    # Calculate loss (Mean Squared Error)\n",
    "    cost = np.mean((predicted - outputs) ** 2)\n",
    "    cost_history.append(cost)\n",
    "\n",
    "    # Backward pass and update weights\n",
    "    dW1, dW2, db1, db2 = model.backward(inputs_scaled, outputs, predicted)\n",
    "    model.update(dW1, dW2, db1, db2)\n",
    "\n",
    "    # Print loss for each epoch\n",
    "    if epoch % 10 == 0:\n",
    "        print(f\"Epoch {epoch}, Cost: {cost}\")\n",
    "\n"
   ]
  },
  {
   "cell_type": "code",
   "execution_count": 20,
   "metadata": {},
   "outputs": [
    {
     "data": {
      "image/png": "[encoded data removed]",
      "text/plain": [
       "<Figure size 800x600 with 1 Axes>"
      ]
     },
     "metadata": {},
     "output_type": "display_data"
    }
   ],
   "source": [
    "# Plotting cost history\n",
    "plt.plot(cost_history, lw=3, color='darkorange')\n",
    "plt.xlabel('Epochs')\n",
    "plt.ylabel('Mean Squared Error (MSE)')\n",
    "plt.title('Cost over Epochs')\n",
    "plt.show()"
   ]
  },
  {
   "cell_type": "code",
   "execution_count": 21,
   "metadata": {},
   "outputs": [
    {
     "name": "stdout",
     "output_type": "stream",
     "text": [
      "Training MSE: 0.5480794066194642\n",
      "Training MAE: 0.6110582965062471\n"
     ]
    }
   ],
   "source": [
    "# Evaluation on the training set\n",
    "predicted_output = model.predict(inputs_scaled)\n",
    "\n",
    "# Calculate evaluation metrics on training set\n",
    "mse_train = mean_squared_error(outputs, predicted_output)\n",
    "mae_train = mean_absolute_error(outputs, predicted_output)\n",
    "\n",
    "# Print evaluation results\n",
    "print(f'Training MSE: {mse_train}')\n",
    "print(f'Training MAE: {mae_train}')"
   ]
  },
  {
   "cell_type": "code",
   "execution_count": 22,
   "metadata": {},
   "outputs": [
    {
     "name": "stdout",
     "output_type": "stream",
     "text": [
      "Test MSE: 0.5735278714240621\n",
      "Test MAE: 0.6239788103226084\n"
     ]
    }
   ],
   "source": [
    "\n",
    "# Evaluate on test set\n",
    "predicted_test_output = model.predict(inputs_scaled_test)\n",
    "\n",
    "# Calculate evaluation metrics on test set\n",
    "mse_test = mean_squared_error(outputs_test, predicted_test_output)\n",
    "mae_test = mean_absolute_error(outputs_test, predicted_test_output)\n",
    "\n",
    "# Print test set evaluation\n",
    "print(f'Test MSE: {mse_test}')\n",
    "print(f'Test MAE: {mae_test}')"
   ]
  },
  {
   "cell_type": "markdown",
   "metadata": {},
   "source": [
    "Libraries"
   ]
  },
  {
   "cell_type": "code",
   "execution_count": 23,
   "metadata": {},
   "outputs": [
    {
     "name": "stdout",
     "output_type": "stream",
     "text": [
      "Epoch 1/50\n",
      "\u001b[1m122/122\u001b[0m \u001b[32m━━━━━━━━━━━━━━━━━━━━\u001b[0m\u001b[37m\u001b[0m \u001b[1m2s\u001b[0m 3ms/step - loss: 145.7077 - val_loss: 7.2431\n",
      "Epoch 2/50\n",
      "\u001b[1m122/122\u001b[0m \u001b[32m━━━━━━━━━━━━━━━━━━━━\u001b[0m\u001b[37m\u001b[0m \u001b[1m0s\u001b[0m 2ms/step - loss: 4.9072 - val_loss: 2.8383\n",
      "Epoch 3/50\n",
      "\u001b[1m122/122\u001b[0m \u001b[32m━━━━━━━━━━━━━━━━━━━━\u001b[0m\u001b[37m\u001b[0m \u001b[1m0s\u001b[0m 2ms/step - loss: 2.9858 - val_loss: 2.0717\n",
      "Epoch 4/50\n",
      "\u001b[1m122/122\u001b[0m \u001b[32m━━━━━━━━━━━━━━━━━━━━\u001b[0m\u001b[37m\u001b[0m \u001b[1m0s\u001b[0m 2ms/step - loss: 2.1491 - val_loss: 1.6382\n",
      "Epoch 5/50\n",
      "\u001b[1m122/122\u001b[0m \u001b[32m━━━━━━━━━━━━━━━━━━━━\u001b[0m\u001b[37m\u001b[0m \u001b[1m0s\u001b[0m 1ms/step - loss: 1.7479 - val_loss: 1.3609\n",
      "Epoch 6/50\n",
      "\u001b[1m122/122\u001b[0m \u001b[32m━━━━━━━━━━━━━━━━━━━━\u001b[0m\u001b[37m\u001b[0m \u001b[1m0s\u001b[0m 1ms/step - loss: 1.4465 - val_loss: 1.1626\n",
      "Epoch 7/50\n",
      "\u001b[1m122/122\u001b[0m \u001b[32m━━━━━━━━━━━━━━━━━━━━\u001b[0m\u001b[37m\u001b[0m \u001b[1m0s\u001b[0m 2ms/step - loss: 1.2670 - val_loss: 1.0300\n",
      "Epoch 8/50\n",
      "\u001b[1m122/122\u001b[0m \u001b[32m━━━━━━━━━━━━━━━━━━━━\u001b[0m\u001b[37m\u001b[0m \u001b[1m0s\u001b[0m 2ms/step - loss: 1.0641 - val_loss: 0.9035\n",
      "Epoch 9/50\n",
      "\u001b[1m122/122\u001b[0m \u001b[32m━━━━━━━━━━━━━━━━━━━━\u001b[0m\u001b[37m\u001b[0m \u001b[1m0s\u001b[0m 1ms/step - loss: 0.9604 - val_loss: 0.8215\n",
      "Epoch 10/50\n",
      "\u001b[1m122/122\u001b[0m \u001b[32m━━━━━━━━━━━━━━━━━━━━\u001b[0m\u001b[37m\u001b[0m \u001b[1m0s\u001b[0m 2ms/step - loss: 0.8311 - val_loss: 0.7241\n",
      "Epoch 11/50\n",
      "\u001b[1m122/122\u001b[0m \u001b[32m━━━━━━━━━━━━━━━━━━━━\u001b[0m\u001b[37m\u001b[0m \u001b[1m0s\u001b[0m 2ms/step - loss: 0.7204 - val_loss: 0.6670\n",
      "Epoch 12/50\n",
      "\u001b[1m122/122\u001b[0m \u001b[32m━━━━━━━━━━━━━━━━━━━━\u001b[0m\u001b[37m\u001b[0m \u001b[1m0s\u001b[0m 2ms/step - loss: 0.6687 - val_loss: 0.5884\n",
      "Epoch 13/50\n",
      "\u001b[1m122/122\u001b[0m \u001b[32m━━━━━━━━━━━━━━━━━━━━\u001b[0m\u001b[37m\u001b[0m \u001b[1m0s\u001b[0m 1ms/step - loss: 0.6257 - val_loss: 0.5361\n",
      "Epoch 14/50\n",
      "\u001b[1m122/122\u001b[0m \u001b[32m━━━━━━━━━━━━━━━━━━━━\u001b[0m\u001b[37m\u001b[0m \u001b[1m0s\u001b[0m 2ms/step - loss: 0.5644 - val_loss: 0.4996\n",
      "Epoch 15/50\n",
      "\u001b[1m122/122\u001b[0m \u001b[32m━━━━━━━━━━━━━━━━━━━━\u001b[0m\u001b[37m\u001b[0m \u001b[1m0s\u001b[0m 2ms/step - loss: 0.4919 - val_loss: 0.4641\n",
      "Epoch 16/50\n",
      "\u001b[1m122/122\u001b[0m \u001b[32m━━━━━━━━━━━━━━━━━━━━\u001b[0m\u001b[37m\u001b[0m \u001b[1m0s\u001b[0m 1ms/step - loss: 0.4651 - val_loss: 0.4203\n",
      "Epoch 17/50\n",
      "\u001b[1m122/122\u001b[0m \u001b[32m━━━━━━━━━━━━━━━━━━━━\u001b[0m\u001b[37m\u001b[0m \u001b[1m0s\u001b[0m 1ms/step - loss: 0.4465 - val_loss: 0.4090\n",
      "Epoch 18/50\n",
      "\u001b[1m122/122\u001b[0m \u001b[32m━━━━━━━━━━━━━━━━━━━━\u001b[0m\u001b[37m\u001b[0m \u001b[1m0s\u001b[0m 1ms/step - loss: 0.4246 - val_loss: 0.4028\n",
      "Epoch 19/50\n",
      "\u001b[1m122/122\u001b[0m \u001b[32m━━━━━━━━━━━━━━━━━━━━\u001b[0m\u001b[37m\u001b[0m \u001b[1m0s\u001b[0m 2ms/step - loss: 0.3937 - val_loss: 0.3741\n",
      "Epoch 20/50\n",
      "\u001b[1m122/122\u001b[0m \u001b[32m━━━━━━━━━━━━━━━━━━━━\u001b[0m\u001b[37m\u001b[0m \u001b[1m0s\u001b[0m 1ms/step - loss: 0.4061 - val_loss: 0.3640\n",
      "Epoch 21/50\n",
      "\u001b[1m122/122\u001b[0m \u001b[32m━━━━━━━━━━━━━━━━━━━━\u001b[0m\u001b[37m\u001b[0m \u001b[1m0s\u001b[0m 2ms/step - loss: 0.3701 - val_loss: 0.3516\n",
      "Epoch 22/50\n",
      "\u001b[1m122/122\u001b[0m \u001b[32m━━━━━━━━━━━━━━━━━━━━\u001b[0m\u001b[37m\u001b[0m \u001b[1m0s\u001b[0m 2ms/step - loss: 0.3537 - val_loss: 0.3730\n",
      "Epoch 23/50\n",
      "\u001b[1m122/122\u001b[0m \u001b[32m━━━━━━━━━━━━━━━━━━━━\u001b[0m\u001b[37m\u001b[0m \u001b[1m0s\u001b[0m 2ms/step - loss: 0.3613 - val_loss: 0.3522\n",
      "Epoch 24/50\n",
      "\u001b[1m122/122\u001b[0m \u001b[32m━━━━━━━━━━━━━━━━━━━━\u001b[0m\u001b[37m\u001b[0m \u001b[1m0s\u001b[0m 1ms/step - loss: 0.3531 - val_loss: 0.3478\n",
      "Epoch 25/50\n",
      "\u001b[1m122/122\u001b[0m \u001b[32m━━━━━━━━━━━━━━━━━━━━\u001b[0m\u001b[37m\u001b[0m \u001b[1m0s\u001b[0m 2ms/step - loss: 0.3526 - val_loss: 0.3217\n",
      "Epoch 26/50\n",
      "\u001b[1m122/122\u001b[0m \u001b[32m━━━━━━━━━━━━━━━━━━━━\u001b[0m\u001b[37m\u001b[0m \u001b[1m0s\u001b[0m 2ms/step - loss: 0.3364 - val_loss: 0.3298\n",
      "Epoch 27/50\n",
      "\u001b[1m122/122\u001b[0m \u001b[32m━━━━━━━━━━━━━━━━━━━━\u001b[0m\u001b[37m\u001b[0m \u001b[1m0s\u001b[0m 1ms/step - loss: 0.3361 - val_loss: 0.3105\n",
      "Epoch 28/50\n",
      "\u001b[1m122/122\u001b[0m \u001b[32m━━━━━━━━━━━━━━━━━━━━\u001b[0m\u001b[37m\u001b[0m \u001b[1m0s\u001b[0m 2ms/step - loss: 0.3303 - val_loss: 0.3285\n",
      "Epoch 29/50\n",
      "\u001b[1m122/122\u001b[0m \u001b[32m━━━━━━━━━━━━━━━━━━━━\u001b[0m\u001b[37m\u001b[0m \u001b[1m0s\u001b[0m 2ms/step - loss: 0.3213 - val_loss: 0.3162\n",
      "Epoch 30/50\n",
      "\u001b[1m122/122\u001b[0m \u001b[32m━━━━━━━━━━━━━━━━━━━━\u001b[0m\u001b[37m\u001b[0m \u001b[1m0s\u001b[0m 1ms/step - loss: 0.3249 - val_loss: 0.3252\n",
      "Epoch 31/50\n",
      "\u001b[1m122/122\u001b[0m \u001b[32m━━━━━━━━━━━━━━━━━━━━\u001b[0m\u001b[37m\u001b[0m \u001b[1m0s\u001b[0m 2ms/step - loss: 0.3262 - val_loss: 0.3130\n",
      "Epoch 32/50\n",
      "\u001b[1m122/122\u001b[0m \u001b[32m━━━━━━━━━━━━━━━━━━━━\u001b[0m\u001b[37m\u001b[0m \u001b[1m0s\u001b[0m 1ms/step - loss: 0.3200 - val_loss: 0.3175\n",
      "Epoch 33/50\n",
      "\u001b[1m122/122\u001b[0m \u001b[32m━━━━━━━━━━━━━━━━━━━━\u001b[0m\u001b[37m\u001b[0m \u001b[1m0s\u001b[0m 1ms/step - loss: 0.3302 - val_loss: 0.3443\n",
      "Epoch 34/50\n",
      "\u001b[1m122/122\u001b[0m \u001b[32m━━━━━━━━━━━━━━━━━━━━\u001b[0m\u001b[37m\u001b[0m \u001b[1m0s\u001b[0m 2ms/step - loss: 0.3356 - val_loss: 0.2977\n",
      "Epoch 35/50\n",
      "\u001b[1m122/122\u001b[0m \u001b[32m━━━━━━━━━━━━━━━━━━━━\u001b[0m\u001b[37m\u001b[0m \u001b[1m0s\u001b[0m 1ms/step - loss: 0.3163 - val_loss: 0.3179\n",
      "Epoch 36/50\n",
      "\u001b[1m122/122\u001b[0m \u001b[32m━━━━━━━━━━━━━━━━━━━━\u001b[0m\u001b[37m\u001b[0m \u001b[1m0s\u001b[0m 2ms/step - loss: 0.3175 - val_loss: 0.3098\n",
      "Epoch 37/50\n",
      "\u001b[1m122/122\u001b[0m \u001b[32m━━━━━━━━━━━━━━━━━━━━\u001b[0m\u001b[37m\u001b[0m \u001b[1m0s\u001b[0m 1ms/step - loss: 0.3134 - val_loss: 0.3048\n",
      "Epoch 38/50\n",
      "\u001b[1m122/122\u001b[0m \u001b[32m━━━━━━━━━━━━━━━━━━━━\u001b[0m\u001b[37m\u001b[0m \u001b[1m0s\u001b[0m 1ms/step - loss: 0.3417 - val_loss: 0.2947\n",
      "Epoch 39/50\n",
      "\u001b[1m122/122\u001b[0m \u001b[32m━━━━━━━━━━━━━━━━━━━━\u001b[0m\u001b[37m\u001b[0m \u001b[1m0s\u001b[0m 1ms/step - loss: 0.3177 - val_loss: 0.3032\n",
      "Epoch 40/50\n",
      "\u001b[1m122/122\u001b[0m \u001b[32m━━━━━━━━━━━━━━━━━━━━\u001b[0m\u001b[37m\u001b[0m \u001b[1m0s\u001b[0m 2ms/step - loss: 0.3198 - val_loss: 0.2999\n",
      "Epoch 41/50\n",
      "\u001b[1m122/122\u001b[0m \u001b[32m━━━━━━━━━━━━━━━━━━━━\u001b[0m\u001b[37m\u001b[0m \u001b[1m0s\u001b[0m 1ms/step - loss: 0.3095 - val_loss: 0.3020\n",
      "Epoch 42/50\n",
      "\u001b[1m122/122\u001b[0m \u001b[32m━━━━━━━━━━━━━━━━━━━━\u001b[0m\u001b[37m\u001b[0m \u001b[1m0s\u001b[0m 1ms/step - loss: 0.3082 - val_loss: 0.3157\n",
      "Epoch 43/50\n",
      "\u001b[1m122/122\u001b[0m \u001b[32m━━━━━━━━━━━━━━━━━━━━\u001b[0m\u001b[37m\u001b[0m \u001b[1m0s\u001b[0m 2ms/step - loss: 0.3095 - val_loss: 0.3118\n",
      "Epoch 44/50\n",
      "\u001b[1m122/122\u001b[0m \u001b[32m━━━━━━━━━━━━━━━━━━━━\u001b[0m\u001b[37m\u001b[0m \u001b[1m0s\u001b[0m 1ms/step - loss: 0.3068 - val_loss: 0.2963\n",
      "Epoch 45/50\n",
      "\u001b[1m122/122\u001b[0m \u001b[32m━━━━━━━━━━━━━━━━━━━━\u001b[0m\u001b[37m\u001b[0m \u001b[1m0s\u001b[0m 1ms/step - loss: 0.3118 - val_loss: 0.3056\n",
      "Epoch 46/50\n",
      "\u001b[1m122/122\u001b[0m \u001b[32m━━━━━━━━━━━━━━━━━━━━\u001b[0m\u001b[37m\u001b[0m \u001b[1m0s\u001b[0m 1ms/step - loss: 0.3229 - val_loss: 0.3106\n",
      "Epoch 47/50\n",
      "\u001b[1m122/122\u001b[0m \u001b[32m━━━━━━━━━━━━━━━━━━━━\u001b[0m\u001b[37m\u001b[0m \u001b[1m0s\u001b[0m 2ms/step - loss: 0.3099 - val_loss: 0.2918\n",
      "Epoch 48/50\n",
      "\u001b[1m122/122\u001b[0m \u001b[32m━━━━━━━━━━━━━━━━━━━━\u001b[0m\u001b[37m\u001b[0m \u001b[1m0s\u001b[0m 1ms/step - loss: 0.2953 - val_loss: 0.3065\n",
      "Epoch 49/50\n",
      "\u001b[1m122/122\u001b[0m \u001b[32m━━━━━━━━━━━━━━━━━━━━\u001b[0m\u001b[37m\u001b[0m \u001b[1m0s\u001b[0m 1ms/step - loss: 0.3087 - val_loss: 0.3456\n",
      "Epoch 50/50\n",
      "\u001b[1m122/122\u001b[0m \u001b[32m━━━━━━━━━━━━━━━━━━━━\u001b[0m\u001b[37m\u001b[0m \u001b[1m0s\u001b[0m 1ms/step - loss: 0.3185 - val_loss: 0.2991\n",
      "\u001b[1m39/39\u001b[0m \u001b[32m━━━━━━━━━━━━━━━━━━━━\u001b[0m\u001b[37m\u001b[0m \u001b[1m0s\u001b[0m 2ms/step\n",
      "MSE (ANN): 0.32510465741448447\n",
      "MAE (ANN): 0.47409227993089653\n"
     ]
    }
   ],
   "source": [
    "import tensorflow as tf\n",
    "from tensorflow.keras import layers, models\n",
    "\n",
    "# Build the ANN model\n",
    "ann_model = models.Sequential([\n",
    "    layers.Input(shape=(X_train_scaled.shape[1],)),\n",
    "    layers.Dense(64, activation='relu'),\n",
    "    layers.Dense(32, activation='relu'),\n",
    "    layers.Dense(1)  # Output layer for regression\n",
    "])\n",
    "\n",
    "# Compile the model\n",
    "ann_model.compile(optimizer='adam', loss='mse')\n",
    "\n",
    "# Train the model\n",
    "history = ann_model.fit(X_train_scaled, y_train, epochs=50, batch_size=32, validation_split=0.2, verbose=1)\n",
    "\n",
    "# Predict on test set\n",
    "y_pred_ann = ann_model.predict(X_test_scaled)\n",
    "\n",
    "# Evaluate the ANN model\n",
    "mse_ann = mean_squared_error(y_test, y_pred_ann)\n",
    "mae_test = mean_absolute_error(y_test, y_pred_ann)\n",
    "print(f'MSE (ANN): {mse_ann}')\n",
    "print(f'MAE (ANN): {mae_test}')\n",
    "\n"
   ]
  },
  {
   "cell_type": "code",
   "execution_count": 24,
   "metadata": {},
   "outputs": [
    {
     "data": {
      "image/png": "[encoded data removed]",
      "text/plain": [
       "<Figure size 800x600 with 1 Axes>"
      ]
     },
     "metadata": {},
     "output_type": "display_data"
    }
   ],
   "source": [
    "import matplotlib.pyplot as plt\n",
    "\n",
    "# Plotting cost history (MSE)\n",
    "plt.plot(history.history['loss'], lw=3, color='darkorange')\n",
    "plt.xlabel('Epochs')\n",
    "plt.ylabel('Mean Squared Error (MSE)')\n",
    "plt.title('Cost over Epochs')\n",
    "plt.show()\n"
   ]
  },
  {
   "cell_type": "markdown",
   "metadata": {},
   "source": []
  }
 ],
 "metadata": {
  "kernelspec": {
   "display_name": "Python 3",
   "language": "python",
   "name": "python3"
  },
  "language_info": {
   "codemirror_mode": {
    "name": "ipython",
    "version": 3
   },
   "file_extension": ".py",
   "mimetype": "text/x-python",
   "name": "python",
   "nbconvert_exporter": "python",
   "pygments_lexer": "ipython3",
   "version": "3.12.3"
  }
 },
 "nbformat": 4,
 "nbformat_minor": 2
}
